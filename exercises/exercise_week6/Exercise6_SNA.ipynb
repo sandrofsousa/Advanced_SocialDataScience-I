{
 "cells": [
  {
   "cell_type": "markdown",
   "id": "efefc8b6",
   "metadata": {},
   "source": [
    "# ASDSI - Social Network Analysis 2162-F23: Exercise 6\n",
    "\n",
    "## 2023-03-13 - Lecture 11\n",
    "\n",
    "# 1. Graph Theory"
   ]
  },
  {
   "cell_type": "markdown",
   "id": "bf0dcb9c",
   "metadata": {},
   "source": [
    "## 1.1 Adjacency matrix and edge list"
   ]
  },
  {
   "cell_type": "markdown",
   "id": "02ca0cf4",
   "metadata": {},
   "source": [
    "### Read the edge list: Game of Thrones coappearances (Undirected)"
   ]
  },
  {
   "cell_type": "code",
   "execution_count": 1,
   "id": "bcf7baca",
   "metadata": {},
   "outputs": [],
   "source": [
    "# Import the stuff we need\n",
    "import pandas as pd\n",
    "import networkx as nx\n",
    "import statistics as sts\n",
    "import matplotlib.pyplot as plt\n",
    "import re\n",
    "from itertools import combinations"
   ]
  },
  {
   "cell_type": "code",
   "execution_count": 2,
   "id": "c8e33571",
   "metadata": {},
   "outputs": [],
   "source": [
    "# open edge file, make sure to use the correct path\n"
   ]
  },
  {
   "cell_type": "markdown",
   "id": "cceffc5c",
   "metadata": {},
   "source": [
    "### 1.1.1 How many nodes and links are present in the network? What is the size (in MB) of the edge list?"
   ]
  },
  {
   "cell_type": "code",
   "execution_count": null,
   "id": "63ced415",
   "metadata": {},
   "outputs": [],
   "source": []
  },
  {
   "cell_type": "markdown",
   "id": "da5f616b",
   "metadata": {},
   "source": [
    "### 1.1.2 Convert the edge list into an adjacency matrix in pandas. What is the size of this matrix? Have you noted any difference in size or in the number of entries to store the same information?"
   ]
  },
  {
   "cell_type": "code",
   "execution_count": 3,
   "id": "bd642e03",
   "metadata": {},
   "outputs": [],
   "source": [
    "# add 1 since nodes start from 0\n",
    "# assume monotonically increasing node number\n"
   ]
  },
  {
   "cell_type": "code",
   "execution_count": null,
   "id": "94c2d798",
   "metadata": {},
   "outputs": [],
   "source": []
  },
  {
   "cell_type": "markdown",
   "id": "33ea4469",
   "metadata": {},
   "source": [
    "### 1.1.3 Which representation, edge list or adjacency matrix, do you think should be used for storage? Which one to use for calculation? Why?"
   ]
  },
  {
   "cell_type": "markdown",
   "id": "5a9911f6",
   "metadata": {},
   "source": [
    "Your answer:"
   ]
  },
  {
   "cell_type": "markdown",
   "id": "c54e3d5e",
   "metadata": {},
   "source": [
    "### 1.1.4 Can you spot an isolated node (i.e. a node with no links) in the adjacency matrix of a graph? How? And in the edge list of a graph? How?"
   ]
  },
  {
   "cell_type": "code",
   "execution_count": null,
   "id": "99685575",
   "metadata": {
    "scrolled": true
   },
   "outputs": [],
   "source": []
  },
  {
   "cell_type": "code",
   "execution_count": null,
   "id": "bbf6dbcb",
   "metadata": {},
   "outputs": [],
   "source": []
  },
  {
   "cell_type": "code",
   "execution_count": null,
   "id": "7fd0b5c7",
   "metadata": {},
   "outputs": [],
   "source": []
  },
  {
   "cell_type": "markdown",
   "id": "4c5f3d2b",
   "metadata": {},
   "source": [
    "### 1.1.5 (Optional) \n",
    "Load the edge list using the file **eu_airlines/edges.csv**.\n",
    "This is a bigger network than the one from the previous exercises.\n",
    "Can you think of an alternative storage of the network that is not an edge list\n",
    "or matrix? For instance, if you need to know all the neighbours of a node, what\n",
    "would be a good data representation?"
   ]
  },
  {
   "cell_type": "code",
   "execution_count": null,
   "id": "f8931212",
   "metadata": {},
   "outputs": [],
   "source": []
  },
  {
   "cell_type": "code",
   "execution_count": null,
   "id": "5ba804b1",
   "metadata": {},
   "outputs": [],
   "source": []
  },
  {
   "cell_type": "markdown",
   "id": "9ac18d72",
   "metadata": {},
   "source": [
    "### 1.1.6 (Challenging) \n",
    "Construct an edge list from non-network data, e.g. text. For this\n",
    "task, use the first Chapter of Alice in wonderland **DowntheRabbitHole.txt**\n",
    "and build the edge list according to the following procedure: Nodes are defined\n",
    "by words, and they are linked if they appear between 2 punctuation marks, e.g.:\n",
    "[. , ; ! ? etc.]. \\\\"
   ]
  },
  {
   "cell_type": "code",
   "execution_count": null,
   "id": "9e04ccfe",
   "metadata": {},
   "outputs": [],
   "source": []
  },
  {
   "cell_type": "code",
   "execution_count": null,
   "id": "1902e5c7",
   "metadata": {
    "scrolled": false
   },
   "outputs": [],
   "source": []
  },
  {
   "cell_type": "markdown",
   "id": "17f066c8",
   "metadata": {},
   "source": [
    "## 1.2 Network formation: Group discussion\n",
    "\n",
    "Write a short paragraph, describing this discussed network. Make sure to define clearly the nodes and the links. Justify why you\n",
    "choose to define nodes and links this way, and explain why you would be interested in studying this network."
   ]
  },
  {
   "cell_type": "markdown",
   "id": "830b52cc",
   "metadata": {},
   "source": [
    "Answer here:"
   ]
  },
  {
   "cell_type": "markdown",
   "id": "080d7866",
   "metadata": {},
   "source": [
    "## 1.3 Matrix multiplication\n"
   ]
  },
  {
   "cell_type": "code",
   "execution_count": 4,
   "id": "05dd1f50",
   "metadata": {},
   "outputs": [],
   "source": [
    "# change cell to markdown and add filename\n",
    "# attach an image or answear here in latex\n",
    "#![filename](attachment:filename.png)"
   ]
  },
  {
   "cell_type": "markdown",
   "id": "6d4b5533",
   "metadata": {},
   "source": []
  },
  {
   "cell_type": "markdown",
   "id": "1c88c246",
   "metadata": {},
   "source": [
    "# 2023-03-15 - Lecture 12\n",
    "\n",
    "# 2. Network identity card\n"
   ]
  },
  {
   "cell_type": "markdown",
   "id": "d473a74b",
   "metadata": {},
   "source": [
    "### 2.1.1 \n",
    "For each network in the list below, consider its edge list and load it through the networkX module using the command nx.read_edgelist(). Then compute the measures specified in the identity card in lecture 12 and make a table. You will repeat this process for another two networks."
   ]
  },
  {
   "cell_type": "markdown",
   "id": "416a07a9",
   "metadata": {},
   "source": [
    "### (a) Game of Thrones coappearances"
   ]
  },
  {
   "cell_type": "code",
   "execution_count": 5,
   "id": "ad4f4ba3",
   "metadata": {},
   "outputs": [],
   "source": [
    "# read GOT network as undirected graph from edge list\n"
   ]
  },
  {
   "cell_type": "code",
   "execution_count": 6,
   "id": "7520b16e",
   "metadata": {
    "scrolled": false
   },
   "outputs": [],
   "source": [
    "# print summary of GoT network\n"
   ]
  },
  {
   "cell_type": "markdown",
   "id": "bce7b8ac",
   "metadata": {},
   "source": [
    "### (b) An undirected network of your choice"
   ]
  },
  {
   "cell_type": "code",
   "execution_count": null,
   "id": "0a465a35",
   "metadata": {},
   "outputs": [],
   "source": []
  },
  {
   "cell_type": "code",
   "execution_count": null,
   "id": "940eb7df",
   "metadata": {},
   "outputs": [],
   "source": []
  },
  {
   "cell_type": "markdown",
   "id": "9aea4fb5",
   "metadata": {},
   "source": [
    "### 2.1.2 Which network among a and b is denser? Which one has a lower shortest path? Is it expected and why/why not?"
   ]
  },
  {
   "cell_type": "markdown",
   "id": "1a589875",
   "metadata": {},
   "source": [
    "Your answer:"
   ]
  },
  {
   "cell_type": "markdown",
   "id": "3afc2eb5",
   "metadata": {},
   "source": [
    "### 2.1.3 (optional) \n",
    "Draw the two networks using different layouts algorithms available in NetworkX. See\n",
    "https://networkx.org/documentation/stable/tutorial.html#drawing-graphs for examples. How changing the layout change the interpretation of the network?"
   ]
  },
  {
   "cell_type": "code",
   "execution_count": null,
   "id": "bb8617db",
   "metadata": {},
   "outputs": [],
   "source": []
  },
  {
   "cell_type": "markdown",
   "id": "55353d98",
   "metadata": {},
   "source": [
    "## 2.2 Clustering coefficient\n",
    "Manually draw a connected network with five nodes, i.e., a network where there is a path\n",
    "connecting any two given nodes. Label the nodes and manually calculate the\n",
    "clustering coefficient of this network using the lectures' definition."
   ]
  },
  {
   "cell_type": "code",
   "execution_count": 7,
   "id": "30a04cea",
   "metadata": {},
   "outputs": [],
   "source": [
    "# change cell to markdown and add filename\n",
    "#![filename](attachment:filename.png)"
   ]
  },
  {
   "cell_type": "markdown",
   "id": "a8d06c9b",
   "metadata": {},
   "source": [
    "## 2.3 Centrality\n",
    "Find the most central node in the **Game of Thrones** network according to the centrality measures presented in class."
   ]
  },
  {
   "cell_type": "code",
   "execution_count": null,
   "id": "49b4cd67",
   "metadata": {},
   "outputs": [],
   "source": []
  },
  {
   "cell_type": "code",
   "execution_count": null,
   "id": "eb157f1a",
   "metadata": {},
   "outputs": [],
   "source": []
  },
  {
   "cell_type": "markdown",
   "id": "a3d4d040",
   "metadata": {},
   "source": [
    "### (a) Do all measures give the same node? Why, or why not?"
   ]
  },
  {
   "cell_type": "markdown",
   "id": "4324b2f1",
   "metadata": {},
   "source": [
    "Answer here:"
   ]
  },
  {
   "cell_type": "markdown",
   "id": "ddafe527",
   "metadata": {},
   "source": [
    "### (b) What about the five most central nodes, do you obtain the same rank with different measures?"
   ]
  },
  {
   "cell_type": "code",
   "execution_count": null,
   "id": "d3a58215",
   "metadata": {},
   "outputs": [],
   "source": []
  },
  {
   "cell_type": "markdown",
   "id": "078a8bbd",
   "metadata": {},
   "source": [
    "Curious about who is behind those numbers? Go check the **got_nodes** file."
   ]
  },
  {
   "cell_type": "code",
   "execution_count": null,
   "id": "9a603455",
   "metadata": {},
   "outputs": [],
   "source": []
  }
 ],
 "metadata": {
  "kernelspec": {
   "display_name": "Python 3",
   "language": "python",
   "name": "python3"
  },
  "language_info": {
   "codemirror_mode": {
    "name": "ipython",
    "version": 3
   },
   "file_extension": ".py",
   "mimetype": "text/x-python",
   "name": "python",
   "nbconvert_exporter": "python",
   "pygments_lexer": "ipython3",
   "version": "3.8.2"
  }
 },
 "nbformat": 4,
 "nbformat_minor": 5
}
